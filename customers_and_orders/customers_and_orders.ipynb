{
  "cells": [
    {
      "cell_type": "markdown",
      "metadata": {
        "id": "view-in-github",
        "colab_type": "text"
      },
      "source": [
        "<a href=\"https://colab.research.google.com/github/Chrisdev2330/Angular-local-storage/blob/main/customers_and_orders/customers_and_orders.ipynb\" target=\"_parent\"><img src=\"https://colab.research.google.com/assets/colab-badge.svg\" alt=\"Open In Colab\"/></a>"
      ]
    },
    {
      "cell_type": "markdown",
      "metadata": {
        "id": "piiX_CRNFYUi"
      },
      "source": [
        "# Technical Challenge ! Custiomers and Orders - The lifeblood of any business!\n",
        "\n",
        "This notebook depends on two data files: customers.scv and orders.csv. These files are hosted in the cloud (or Github), so for simplicity, we are providing you with the code to download and save the two files in a folder called 'sample_data' which lives within this notebook session (not on your local computer nor Google Drive).\n",
        "\n",
        "![sample_data folder in notebook session](https://raw.githubusercontent.com/anyoneai/notebooks/main/customers_and_orders/images/sample_data_folder.png)\n",
        "\n",
        "Please execute the first code snippet before moving to the rest of the exercise as this code will import the data from the files for you to be able to execute the rest of the exercise.\n",
        "\n",
        "Remember as we said in the previous lecture, you have to save this notebook into your Google Drive by going to menu File/Save a Copy In Drive, or clicking in the button \"Copy to Drive\". This way, you will not lose any work you've done and the file will persist with your latest changes in your Google Drive. Also we recommend you to rename your .ipynb in your Google Drive, so you can easily find it in the future."
      ]
    },
    {
      "cell_type": "code",
      "execution_count": 3,
      "metadata": {
        "colab": {
          "base_uri": "https://localhost:8080/"
        },
        "id": "MWpVO242FQHC",
        "outputId": "0524cca3-9368-4701-de46-954b085c7c90"
      },
      "outputs": [
        {
          "output_type": "stream",
          "name": "stdout",
          "text": [
            "Customers and orders CSV files have been added './sample_data'\n"
          ]
        }
      ],
      "source": [
        "import requests\n",
        "\n",
        "def import_data_files():\n",
        "  r = requests.get('https://raw.githubusercontent.com/anyoneai/notebooks/main/customers_and_orders/data/customers.csv')\n",
        "  with open('./sample_data/customers.csv', 'wb') as f:\n",
        "    f.write(r.content)\n",
        "\n",
        "  r = requests.get('https://raw.githubusercontent.com/anyoneai/notebooks/main/customers_and_orders/data/orders.csv')\n",
        "  with open('./sample_data/orders.csv', 'wb') as f:\n",
        "    f.write(r.content)\n",
        "\n",
        "import_data_files()\n",
        "print(\"Customers and orders CSV files have been added './sample_data'\")"
      ]
    },
    {
      "cell_type": "markdown",
      "metadata": {
        "id": "JQAduY-RWKyB"
      },
      "source": [
        "# Exercise 1: Processing Customers data (difficulty medium)\n",
        "\n",
        "The sample customer data in 'customers.csv' file has just 5 columns: CustomerId, First Name, Last Name, City and State\n",
        "\n",
        "![Data sample](https://raw.githubusercontent.com/anyoneai/notebooks/main/customers_and_orders/images/customers.png)\n",
        "\n",
        "We strongly recommend that you complete from the [Prep Course: Intro to Python](https://colab.research.google.com/github/anyoneai/notebooks/blob/main/python3_crash_course.ipynb) the following section:\n",
        "- Section 7: File I/O (to understand how to read CSV file)\n",
        "- Section 6: For Loop (to navigate the contents of the CSV file)\n",
        "- Section 5: Tuples, Lists, and Dictionaries (to manipulate the data of the CSV file)\n",
        "\n",
        "With this, we hope you can complete this exercise successfully. Although if you want to solve this with libraries or any other way, you are welcome to do it your way.\n",
        "\n",
        "*Hint:* We advise you to take a look at the data before you start.\n",
        "**if you want to manually take a look at the data before you start, please see the content of the data [here](https://github.com/anyoneai/notebooks/blob/main/customers_and_orders/data/customers.csv).\n",
        "\n",
        "*Hint*: There are many ways to do this exercise you can do your own, although here's some help. You can solve this exercise reading and parsing CSV files, structuring data into dictionaries, and using for loops to navigate the contents\n",
        "\n",
        "*Hint*: Also, keep in mind that data might not be clean and you might have to figure out how to deal with that data from the code, without having to modify the data source.\n",
        "\n",
        "Below are the 5 questions you'll have to answer to pass the evaluation:"
      ]
    },
    {
      "cell_type": "markdown",
      "metadata": {
        "id": "kJq7S8sBfbOW"
      },
      "source": [
        "**Question 1:** How many customers are in the file?\n",
        "(as help, we have added some comments and starter code to help you structure the solution)"
      ]
    },
    {
      "cell_type": "code",
      "execution_count": 12,
      "metadata": {
        "colab": {
          "base_uri": "https://localhost:8080/"
        },
        "id": "oMnUFBFb2RUb",
        "outputId": "bcf6cb64-24f2-4849-d31f-8a3e52486a53"
      },
      "outputs": [
        {
          "output_type": "stream",
          "name": "stdout",
          "text": [
            "602\n",
            "All done!\n"
          ]
        }
      ],
      "source": [
        "from os.path import exists\n",
        "import csv\n",
        "\n",
        "# check if file can be found and open the file\n",
        "datafile = \"./sample_data/customers.csv\"\n",
        "if not exists(datafile):\n",
        "  raise SystemExit(\"You should run the first code cell and download the dataset files!\")\n",
        "\n",
        "# customers file is in the sample_data folder and can be opened.\n",
        "# Using csv reader is one way of dealing with the file\n",
        "# but it's up to you how you want to proceed\n",
        "cant_customers = 0\n",
        "\n",
        "with open(datafile, 'r') as fl:\n",
        "  csvreader = csv.reader(fl, delimiter=',')\n",
        "  header = next(csvreader)\n",
        "  data = list(csvreader)\n",
        "\n",
        "  for i in data:\n",
        "    cant_customers +=1\n",
        "\n",
        "print(cant_customers)\n",
        "\n",
        "\n",
        "\n",
        "  # loop through the rows and count etc. THE REST IS UP TO YOU!\n",
        "\n",
        "\n",
        "print(\"All done!\")"
      ]
    },
    {
      "cell_type": "code",
      "source": [
        "import pandas as pd\n",
        "customers = pd.DataFrame(data, columns= header)\n",
        "len(customers)"
      ],
      "metadata": {
        "id": "0pKpWWGQTTwG",
        "outputId": "826fb921-8aaa-4d2f-da2d-84b419d01ce1",
        "colab": {
          "base_uri": "https://localhost:8080/"
        }
      },
      "execution_count": 13,
      "outputs": [
        {
          "output_type": "execute_result",
          "data": {
            "text/plain": [
              "602"
            ]
          },
          "metadata": {},
          "execution_count": 13
        }
      ]
    },
    {
      "cell_type": "markdown",
      "metadata": {
        "id": "uffBnNgz_570"
      },
      "source": [
        "**Question 2:** In how many different states do the customers live in?"
      ]
    },
    {
      "cell_type": "code",
      "execution_count": 24,
      "metadata": {
        "id": "Bi_yid0sMe3-",
        "outputId": "57eae1de-66ac-493f-d9fb-500a045218b2",
        "colab": {
          "base_uri": "https://localhost:8080/"
        }
      },
      "outputs": [
        {
          "output_type": "stream",
          "name": "stdout",
          "text": [
            "15\n"
          ]
        }
      ],
      "source": [
        "states = []\n",
        "\n",
        "with open(datafile, 'r') as fl:\n",
        "  csvreader = csv.reader(fl, delimiter=',')\n",
        "  header = next(csvreader)\n",
        "  column = header.index('State')\n",
        "\n",
        "\n",
        "# evaluate the contents of the file\n",
        "  for i in csvreader:\n",
        "    if len(i) > column :\n",
        "            state = i[column].strip()\n",
        "            states.append(state)\n",
        "\n",
        "print(len(set(states)))\n",
        "\n"
      ]
    },
    {
      "cell_type": "markdown",
      "metadata": {
        "id": "DC59SZYiMfNY"
      },
      "source": [
        "**Question 3** What is the state with most customers?"
      ]
    },
    {
      "cell_type": "code",
      "execution_count": 31,
      "metadata": {
        "id": "tfGU3w-OMhA9",
        "outputId": "9afed6dd-d72e-4a57-d97a-c91efd2083e1",
        "colab": {
          "base_uri": "https://localhost:8080/"
        }
      },
      "outputs": [
        {
          "output_type": "stream",
          "name": "stdout",
          "text": [
            "CA\n"
          ]
        }
      ],
      "source": [
        "# open file and init vars\n",
        "# evaluate the contents of the file\n",
        "\n",
        "from collections import Counter\n",
        "\n",
        "states = []\n",
        "\n",
        "with open(datafile, 'r') as fl:\n",
        "  csvreader = csv.reader(fl, delimiter=',')\n",
        "  header = next(csvreader)\n",
        "  column = header.index('State')\n",
        "  states= [i[column] for i in csvreader]\n",
        "\n",
        "  count_states = Counter(states)\n",
        "  count_states_max = count_states.most_common(1)[0][0]\n",
        "\n",
        "  print(count_states_max)\n",
        "\n"
      ]
    },
    {
      "cell_type": "code",
      "source": [
        "count_states = customers['State'].value_counts().max()\n",
        "count_States =customers['State'].value_counts()[customers['State'].value_counts() == count_states].index.tolist()\n",
        "count_States\n"
      ],
      "metadata": {
        "id": "E2b1SuolZR8u",
        "outputId": "ebdf93c1-1517-4efb-8a89-0ff4b1cda046",
        "colab": {
          "base_uri": "https://localhost:8080/"
        }
      },
      "execution_count": 37,
      "outputs": [
        {
          "output_type": "execute_result",
          "data": {
            "text/plain": [
              "['CA']"
            ]
          },
          "metadata": {},
          "execution_count": 37
        }
      ]
    },
    {
      "cell_type": "markdown",
      "metadata": {
        "id": "7mcM6cUAMhLB"
      },
      "source": [
        "**Question 4** What is the state with the least customers?"
      ]
    },
    {
      "cell_type": "code",
      "execution_count": 38,
      "metadata": {
        "id": "8T0Ka2RqMi3P",
        "outputId": "f8724594-1b69-42fe-e9df-e6f4ca8b3245",
        "colab": {
          "base_uri": "https://localhost:8080/"
        }
      },
      "outputs": [
        {
          "output_type": "stream",
          "name": "stdout",
          "text": [
            "['WA', 'NH', 'ID', 'OR', 'MA', 'IN']\n"
          ]
        }
      ],
      "source": [
        "# open file and init vars\n",
        "# evaluate the contents of the file\n",
        "\n",
        "states = []\n",
        "\n",
        "with open(datafile, 'r') as fl:\n",
        "    csvreader = csv.reader(fl, delimiter=',')\n",
        "    header = next(csvreader)\n",
        "    index = header.index('State')\n",
        "    states= [i[index] for i in csvreader]\n",
        "    count = Counter(states)\n",
        "\n",
        "if count:\n",
        "    min_count = min(count.values())\n",
        "    least_common_states = [state for state, freq in count.items() if freq == min_count]\n",
        "    print(least_common_states)\n",
        "\n"
      ]
    },
    {
      "cell_type": "code",
      "source": [
        "count_States = customers['State'].value_counts().min()\n",
        "count_States =customers['State'].value_counts()[customers['State'].value_counts() == count_States].index.tolist()\n",
        "count_States"
      ],
      "metadata": {
        "id": "JyKjbSAvaqql",
        "outputId": "9f61a3b1-157f-4c81-e159-f1f91cfd906d",
        "colab": {
          "base_uri": "https://localhost:8080/"
        }
      },
      "execution_count": 40,
      "outputs": [
        {
          "output_type": "execute_result",
          "data": {
            "text/plain": [
              "['WA', 'NH', 'ID', 'OR', 'MA', 'IN']"
            ]
          },
          "metadata": {},
          "execution_count": 40
        }
      ]
    },
    {
      "cell_type": "markdown",
      "metadata": {
        "id": "h6fIy7hXHF6A"
      },
      "source": [
        "**Question 5:** What is the most common last name?"
      ]
    },
    {
      "cell_type": "code",
      "execution_count": 41,
      "metadata": {
        "id": "k8M1DmA75Km7",
        "outputId": "2ccdc4f5-b3a6-463c-f28d-d8ddb755958d",
        "colab": {
          "base_uri": "https://localhost:8080/"
        }
      },
      "outputs": [
        {
          "output_type": "stream",
          "name": "stdout",
          "text": [
            "Smith\n"
          ]
        }
      ],
      "source": [
        "# open file and init vars\n",
        "# evaluate the contents of the file\n",
        "\n",
        "last_name_counts = {}\n",
        "\n",
        "with open(datafile, 'r') as fl:\n",
        "    csvreader = csv.reader(fl, delimiter=',')\n",
        "    header = next(csvreader)\n",
        "    lastname_index = header.index('LastName')\n",
        "    for row in csvreader:\n",
        "        lastname = row[lastname_index]\n",
        "        if lastname in last_name_counts:\n",
        "            last_name_counts[lastname] += 1\n",
        "        else:\n",
        "            last_name_counts[lastname] = 1\n",
        "\n",
        "most_repeated_lastname = None\n",
        "max_count = 0\n",
        "\n",
        "for lastname, count in last_name_counts.items():\n",
        "    if count > max_count:\n",
        "        most_repeated_lastname = lastname\n",
        "        max_count = count\n",
        "\n",
        "print(most_repeated_lastname)"
      ]
    },
    {
      "cell_type": "code",
      "source": [
        "customers['LastName'].value_counts().index[0]"
      ],
      "metadata": {
        "colab": {
          "base_uri": "https://localhost:8080/",
          "height": 35
        },
        "id": "AFnd_-ezbhm2",
        "outputId": "fb75eebe-1214-4be8-9ec1-b031b09c0b07"
      },
      "execution_count": 45,
      "outputs": [
        {
          "output_type": "execute_result",
          "data": {
            "text/plain": [
              "'Smith'"
            ],
            "application/vnd.google.colaboratory.intrinsic+json": {
              "type": "string"
            }
          },
          "metadata": {},
          "execution_count": 45
        }
      ]
    },
    {
      "cell_type": "markdown",
      "metadata": {
        "id": "YPRma1t9NoFk"
      },
      "source": [
        "# Exercise 2: Processing Orders data (difficulty high)\n",
        "\n",
        "The second sample files contains orders placed by customers from the first file. Be careful, this file has many rows and you most likely should not print the contents of the whole file.\n",
        "\n",
        "The file contains the following columns: CustomerID, OrderID, Date, OrderTotal, ProductName, Price\n",
        "\n",
        "![Data sample](https://raw.githubusercontent.com/anyoneai/notebooks/main/customers_and_orders/images/orders.png)\n",
        "\n",
        "*Hint:* We advise you to take a look at the data before you start.\n",
        "**if you want to manually take a look at the data before you start, please see the content of the data [here](https://raw.githubusercontent.com/anyoneai/notebooks/main/customers_and_orders/data/orders.csv).\n",
        "\n",
        "*Hint*: There are many ways to do this exercise you can do your own, although here's some help. You can solve this exercise reading and parsing CSV files, structuring data into dictionaries, and using for loops to navigate the contents\n",
        "\n",
        "*Hint*: Also, the data is not clean and you will have to figure out how to deal with that data from the code, without having to modify the data source.\n",
        "\n",
        "\n",
        "\n",
        "**Question #1:** How many unique orders are in the orders.csv file?\n",
        "\n",
        "**Question #2:** What is the average number of items per order (rounded to two decimal places)?\n",
        "\n",
        "**Question #3:** What is the highest number of items per order?\n",
        "\n",
        "**Question #4:** What is the number of orders placed in October 2021?\n",
        "\n",
        "**Question #5:** Which customer spent the most amount of money in 2021?\n",
        "\n",
        "**Question #6:** Historically, what is the best month for sales?\n",
        "\n",
        "Once you get your answers, remember to go back to the course and introduce them in the multiple choice quiz"
      ]
    },
    {
      "cell_type": "code",
      "execution_count": 64,
      "metadata": {
        "id": "8ipJTrfs5QVM",
        "colab": {
          "base_uri": "https://localhost:8080/"
        },
        "outputId": "901355d3-6460-44b7-a413-a6c398f211e1"
      },
      "outputs": [
        {
          "output_type": "stream",
          "name": "stdout",
          "text": [
            "16672\n"
          ]
        }
      ],
      "source": [
        "#Question 1: How many unique orders are in the orders.csv file?\n",
        "\n",
        "# check if file can be found and open the file\n",
        "datafile = \"./sample_data/orders.csv\"\n",
        "if not exists(datafile):\n",
        "  raise SystemExit(\"You should run the first code cell and download the dataset files!\")\n",
        "\n",
        "# customers file is in the sample_data folder and can be opened.\n",
        "# Using csv reader is one way of dealing with the file\n",
        "# but it's up to you how you want to proceed\n",
        "with open(datafile, 'r') as fl:\n",
        "  csvreader = csv.reader(fl, delimiter=',')\n",
        "  header = next(csvreader)\n",
        "  order_ids_unique = set()\n",
        "  index_order_id = header.index('OrderID')\n",
        "  for i in csvreader:\n",
        "        order_ids_unique.add(i[index_order_id])\n",
        "\n",
        "  #use pandas\n",
        "  #data = list(csvreader)\n",
        "  #data = pd.DataFrame(data, columns=header)\n",
        "\n",
        "  #print(len(data['OrderID'].unique()))\n",
        "\n",
        "\n",
        "\n",
        "print(len(order_ids_unique))\n"
      ]
    },
    {
      "cell_type": "code",
      "source": [
        "#Question 2: What is the average number of items per order (rounded to two decimal places)?\n",
        "\n",
        "with open(datafile, 'r') as fl:\n",
        "  csvreader = csv.reader(fl, delimiter=',')\n",
        "  header = next(csvreader)\n",
        "\n",
        "  order_item_counts = {}\n",
        "  order_id_index = header.index('OrderID')\n",
        "  product_name_index = header.index('ProductName')\n",
        "\n",
        "  for row in csvreader:\n",
        "    order_id = row[order_id_index]\n",
        "    if order_id in order_item_counts:\n",
        "      order_item_counts[order_id] += 1\n",
        "    else:\n",
        "        order_item_counts[order_id] = 1\n",
        "\n",
        "total_items = sum(order_item_counts.values())\n",
        "total_orders = len(order_item_counts)\n",
        "\n",
        "\n",
        "average_items = total_items / total_orders\n",
        "rounded_average = round(average_items, 2)\n",
        "print(rounded_average)\n",
        "\n",
        "\n",
        "\n",
        "  #use pandas\n",
        "  #data = list(csvreader)\n",
        "  #data = pd.DataFrame(data, columns=header)\n",
        "\n",
        "  #counts = data.groupby('OrderID')['ProductName'].count()\n",
        "  #average_items = counts.mean()\n",
        "\n",
        "  #average_items = round(average_items, 2)\n",
        "  #ProductName\n",
        "  #print(average_items)\n"
      ],
      "metadata": {
        "id": "npIq8f_Del9I",
        "outputId": "543771b9-ac1d-4cec-9b4c-d07c8f161932",
        "colab": {
          "base_uri": "https://localhost:8080/"
        }
      },
      "execution_count": 65,
      "outputs": [
        {
          "output_type": "stream",
          "name": "stdout",
          "text": [
            "1.76\n"
          ]
        }
      ]
    },
    {
      "cell_type": "code",
      "source": [
        "#Question 3 What is the highest number of items per order?\n",
        "with open(datafile, 'r') as fl:\n",
        "  csvreader = csv.reader(fl, delimiter=',')\n",
        "  header = next(csvreader)\n",
        "\n",
        "  order_item_counts = {}\n",
        "  order_id_index = header.index('OrderID')\n",
        "  product_name_index = header.index('ProductName')\n",
        "\n",
        "  for row in csvreader:\n",
        "    order_id = row[order_id_index]\n",
        "    if order_id in order_item_counts:\n",
        "      order_item_counts[order_id] += 1\n",
        "    else:\n",
        "        order_item_counts[order_id] = 1\n",
        "highest_item_count = max(order_item_counts.values())\n",
        "\n",
        "print(highest_item_count)"
      ],
      "metadata": {
        "id": "-DnJ4HP_gPfz",
        "outputId": "947d8494-e360-4d4d-9f0e-e02ad5486de7",
        "colab": {
          "base_uri": "https://localhost:8080/"
        }
      },
      "execution_count": 66,
      "outputs": [
        {
          "output_type": "stream",
          "name": "stdout",
          "text": [
            "35\n"
          ]
        }
      ]
    },
    {
      "cell_type": "code",
      "source": [
        "#Question 4 What is the number of orders placed in October 2021?\n",
        "import datetime\n",
        "\n",
        "order_count = 0\n",
        "\n",
        "with open(datafile, 'r') as fl:\n",
        "    csvreader = csv.reader(fl, delimiter=',')\n",
        "    header = next(csvreader)\n",
        "    date_idx = header.index('Date')\n",
        "\n",
        "    for row in csvreader:\n",
        "        date_str = row[date_idx]\n",
        "        try:\n",
        "            order_date = datetime.datetime.strptime(date_str, '%Y-%m-%d %H:%M:%S.%f')\n",
        "            if order_date.month == 10 and str(order_date.year).startswith('2021'):\n",
        "                order_count += 1\n",
        "        except ValueError:\n",
        "            try:\n",
        "                order_date = datetime.datetime.strptime(date_str, '%Y-%m-%d %H:%M:%S')\n",
        "                if order_date.month == 10 and str(order_date.year).startswith('2021'):\n",
        "                    order_count += 1\n",
        "            except ValueError:\n",
        "                continue\n",
        "\n",
        "print(order_count)"
      ],
      "metadata": {
        "id": "ZC03iJgBgVil",
        "outputId": "4d066990-0034-4fce-9042-b257f700a4f2",
        "colab": {
          "base_uri": "https://localhost:8080/"
        }
      },
      "execution_count": 67,
      "outputs": [
        {
          "output_type": "stream",
          "name": "stdout",
          "text": [
            "437\n"
          ]
        }
      ]
    },
    {
      "cell_type": "code",
      "source": [
        "#Question 5: Which customer spent the most amount of money in 2021?\n",
        "customer_totals_2021 = {}\n",
        "\n",
        "with open(datafile, 'r') as fl:\n",
        "    csvreader = csv.reader(fl, delimiter=',')\n",
        "    header = next(csvreader)\n",
        "    if 'Price' not in header:\n",
        "        raise ValueError(\"\")\n",
        "    price_index = header.index('Price')\n",
        "\n",
        "    for row in csvreader:\n",
        "        if len(row) > 2 and len(row) > price_index:\n",
        "            customer_id = row[0]\n",
        "            date_str = row[2]\n",
        "            price_str = row[price_index]\n",
        "            if date_str.startswith('2021'):\n",
        "                try:\n",
        "                    price = float(price_str)\n",
        "                    customer_totals_2021[customer_id] = customer_totals_2021.get(customer_id, 0) + price\n",
        "                except ValueError:\n",
        "                    pass # Ignore rows with invalid price\n",
        "        else:\n",
        "            pass # Ignore incomplete rows\n",
        "\n",
        "sorted_customers = sorted(customer_totals_2021.items(), key=lambda item: item[1], reverse=True)\n",
        "\n",
        "print(\"Top 10 customers who spent the most amount of money in 2021 (based on Price):\")\n",
        "for i, (customer, total) in enumerate(sorted_customers[:10]):\n",
        "    print(f\"{i+1}. CustomerID: {customer}, Total Spent: {total:.2f}\")\n",
        "\n",
        "\n"
      ],
      "metadata": {
        "id": "VAJnCFbKhFAL",
        "outputId": "8c382b0c-a466-4fc5-ef85-a7adba5a117d",
        "colab": {
          "base_uri": "https://localhost:8080/"
        }
      },
      "execution_count": 82,
      "outputs": [
        {
          "output_type": "stream",
          "name": "stdout",
          "text": [
            "Top 10 customers who spent the most amount of money in 2021 (based on Price):\n",
            "1. CustomerID: 5172443, Total Spent: 7675.00\n",
            "2. CustomerID: 1907160, Total Spent: 5485.00\n",
            "3. CustomerID: 5464, Total Spent: 5470.00\n",
            "4. CustomerID: 5100984, Total Spent: 5225.00\n",
            "5. CustomerID: 4300438, Total Spent: 4960.00\n",
            "6. CustomerID: 1904479, Total Spent: 4525.00\n",
            "7. CustomerID: 4300840, Total Spent: 4500.00\n",
            "8. CustomerID: 5463, Total Spent: 3850.00\n",
            "9. CustomerID: 1902406, Total Spent: 3820.00\n",
            "10. CustomerID: 5572, Total Spent: 3540.00\n"
          ]
        }
      ]
    },
    {
      "cell_type": "markdown",
      "metadata": {
        "id": "ie0JW4FAk6Os"
      },
      "source": [
        "# Finished!\n",
        "\n",
        "Hope this was not too difficult and slicing and dicing the datasets was some fun. Now head on back to the course and provide the answers to the questions from this exercise."
      ]
    }
  ],
  "metadata": {
    "colab": {
      "name": "customers_and_orders.ipynb",
      "provenance": [],
      "include_colab_link": true
    },
    "kernelspec": {
      "display_name": "Python 3 (ipykernel)",
      "language": "python",
      "name": "python3"
    },
    "language_info": {
      "codemirror_mode": {
        "name": "ipython",
        "version": 3
      },
      "file_extension": ".py",
      "mimetype": "text/x-python",
      "name": "python",
      "nbconvert_exporter": "python",
      "pygments_lexer": "ipython3",
      "version": "3.9.9"
    }
  },
  "nbformat": 4,
  "nbformat_minor": 0
}